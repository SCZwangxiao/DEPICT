{
 "cells": [
  {
   "cell_type": "code",
   "execution_count": null,
   "metadata": {},
   "outputs": [],
   "source": [
    "import  os\n",
    "import json\n",
    "import random\n",
    "from IPython.display import Video"
   ]
  },
  {
   "cell_type": "code",
   "execution_count": null,
   "metadata": {},
   "outputs": [],
   "source": [
    "anno_file = 'data/depict/annotations/test.json'\n",
    "video_root = 'data/depict/videos'"
   ]
  },
  {
   "cell_type": "code",
   "execution_count": null,
   "metadata": {},
   "outputs": [],
   "source": [
    "annotations = json.load(open(anno_file, 'r'))"
   ]
  },
  {
   "cell_type": "code",
   "execution_count": null,
   "metadata": {},
   "outputs": [],
   "source": [
    "anno = random.choice(annotations)\n",
    "\n",
    "BVid = anno['BVid']\n",
    "video_title = anno['video_title']\n",
    "asr_results = anno['asr_results']\n",
    "summarization = anno['summarization']\n",
    "\n",
    "video_path = os.path.join(video_root, f'{BVid}.mp4')\n",
    "print(\"Title:\", video_title)\n",
    "print(\"ASR Transcripts:\", asr_results)\n",
    "print(\"caption\", summarization)\n",
    "Video(video_path, width=640, height=360)"
   ]
  }
 ],
 "metadata": {
  "kernelspec": {
   "display_name": "Python 3",
   "language": "python",
   "name": "python3"
  },
  "language_info": {
   "codemirror_mode": {
    "name": "ipython",
    "version": 3
   },
   "file_extension": ".py",
   "mimetype": "text/x-python",
   "name": "python",
   "nbconvert_exporter": "python",
   "pygments_lexer": "ipython3",
   "version": "3.8.10"
  },
  "orig_nbformat": 4
 },
 "nbformat": 4,
 "nbformat_minor": 2
}
